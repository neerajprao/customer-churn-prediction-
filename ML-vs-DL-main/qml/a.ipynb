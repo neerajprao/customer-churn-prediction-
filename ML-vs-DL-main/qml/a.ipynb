{
 "cells": [
  {
   "cell_type": "code",
   "execution_count": 1,
   "id": "3349f65a",
   "metadata": {},
   "outputs": [
    {
     "name": "stdout",
     "output_type": "stream",
     "text": [
      "Requirement already satisfied: pennylane in /opt/anaconda3/envs/yolov8-env/lib/python3.10/site-packages (0.41.0)\n",
      "Requirement already satisfied: scikit-learn in /opt/anaconda3/envs/yolov8-env/lib/python3.10/site-packages (1.6.1)\n",
      "Requirement already satisfied: pandas in /opt/anaconda3/envs/yolov8-env/lib/python3.10/site-packages (2.2.3)\n",
      "Requirement already satisfied: numpy in /opt/anaconda3/envs/yolov8-env/lib/python3.10/site-packages (from pennylane) (2.1.3)\n",
      "Requirement already satisfied: scipy in /opt/anaconda3/envs/yolov8-env/lib/python3.10/site-packages (from pennylane) (1.15.2)\n",
      "Requirement already satisfied: networkx in /opt/anaconda3/envs/yolov8-env/lib/python3.10/site-packages (from pennylane) (3.4.2)\n",
      "Requirement already satisfied: rustworkx>=0.14.0 in /opt/anaconda3/envs/yolov8-env/lib/python3.10/site-packages (from pennylane) (0.16.0)\n",
      "Requirement already satisfied: autograd in /opt/anaconda3/envs/yolov8-env/lib/python3.10/site-packages (from pennylane) (1.7.0)\n",
      "Requirement already satisfied: tomlkit in /opt/anaconda3/envs/yolov8-env/lib/python3.10/site-packages (from pennylane) (0.13.2)\n",
      "Requirement already satisfied: appdirs in /opt/anaconda3/envs/yolov8-env/lib/python3.10/site-packages (from pennylane) (1.4.4)\n",
      "Requirement already satisfied: autoray>=0.6.11 in /opt/anaconda3/envs/yolov8-env/lib/python3.10/site-packages (from pennylane) (0.7.1)\n",
      "Requirement already satisfied: cachetools in /opt/anaconda3/envs/yolov8-env/lib/python3.10/site-packages (from pennylane) (5.5.2)\n",
      "Requirement already satisfied: pennylane-lightning>=0.41 in /opt/anaconda3/envs/yolov8-env/lib/python3.10/site-packages (from pennylane) (0.41.0)\n",
      "Requirement already satisfied: requests in /opt/anaconda3/envs/yolov8-env/lib/python3.10/site-packages (from pennylane) (2.32.3)\n",
      "Requirement already satisfied: typing-extensions in /opt/anaconda3/envs/yolov8-env/lib/python3.10/site-packages (from pennylane) (4.13.2)\n",
      "Requirement already satisfied: packaging in /opt/anaconda3/envs/yolov8-env/lib/python3.10/site-packages (from pennylane) (25.0)\n",
      "Requirement already satisfied: diastatic-malt in /opt/anaconda3/envs/yolov8-env/lib/python3.10/site-packages (from pennylane) (2.15.2)\n",
      "Requirement already satisfied: joblib>=1.2.0 in /opt/anaconda3/envs/yolov8-env/lib/python3.10/site-packages (from scikit-learn) (1.4.2)\n",
      "Requirement already satisfied: threadpoolctl>=3.1.0 in /opt/anaconda3/envs/yolov8-env/lib/python3.10/site-packages (from scikit-learn) (3.6.0)\n",
      "Requirement already satisfied: python-dateutil>=2.8.2 in /opt/anaconda3/envs/yolov8-env/lib/python3.10/site-packages (from pandas) (2.9.0.post0)\n",
      "Requirement already satisfied: pytz>=2020.1 in /opt/anaconda3/envs/yolov8-env/lib/python3.10/site-packages (from pandas) (2025.2)\n",
      "Requirement already satisfied: tzdata>=2022.7 in /opt/anaconda3/envs/yolov8-env/lib/python3.10/site-packages (from pandas) (2025.2)\n",
      "Requirement already satisfied: scipy-openblas32>=0.3.26 in /opt/anaconda3/envs/yolov8-env/lib/python3.10/site-packages (from pennylane-lightning>=0.41->pennylane) (0.3.29.0.0)\n",
      "Requirement already satisfied: six>=1.5 in /opt/anaconda3/envs/yolov8-env/lib/python3.10/site-packages (from python-dateutil>=2.8.2->pandas) (1.17.0)\n",
      "Requirement already satisfied: astunparse in /opt/anaconda3/envs/yolov8-env/lib/python3.10/site-packages (from diastatic-malt->pennylane) (1.6.3)\n",
      "Requirement already satisfied: gast in /opt/anaconda3/envs/yolov8-env/lib/python3.10/site-packages (from diastatic-malt->pennylane) (0.6.0)\n",
      "Requirement already satisfied: termcolor in /opt/anaconda3/envs/yolov8-env/lib/python3.10/site-packages (from diastatic-malt->pennylane) (3.1.0)\n",
      "Requirement already satisfied: charset-normalizer<4,>=2 in /opt/anaconda3/envs/yolov8-env/lib/python3.10/site-packages (from requests->pennylane) (3.4.1)\n",
      "Requirement already satisfied: idna<4,>=2.5 in /opt/anaconda3/envs/yolov8-env/lib/python3.10/site-packages (from requests->pennylane) (3.10)\n",
      "Requirement already satisfied: urllib3<3,>=1.21.1 in /opt/anaconda3/envs/yolov8-env/lib/python3.10/site-packages (from requests->pennylane) (2.4.0)\n",
      "Requirement already satisfied: certifi>=2017.4.17 in /opt/anaconda3/envs/yolov8-env/lib/python3.10/site-packages (from requests->pennylane) (2025.4.26)\n",
      "Requirement already satisfied: wheel<1.0,>=0.23.0 in /opt/anaconda3/envs/yolov8-env/lib/python3.10/site-packages (from astunparse->diastatic-malt->pennylane) (0.45.1)\n",
      "Note: you may need to restart the kernel to use updated packages.\n"
     ]
    }
   ],
   "source": [
    "pip install pennylane scikit-learn pandas\n"
   ]
  },
  {
   "cell_type": "code",
   "execution_count": 3,
   "id": "4db9020e",
   "metadata": {},
   "outputs": [
    {
     "name": "stderr",
     "output_type": "stream",
     "text": [
      "/opt/anaconda3/envs/yolov8-env/lib/python3.10/site-packages/autograd/tracer.py:14: UserWarning: Output seems independent of input.\n",
      "  warnings.warn(\"Output seems independent of input.\")\n"
     ]
    },
    {
     "ename": "TypeError",
     "evalue": "'>=' not supported between instances of 'list' and 'float'",
     "output_type": "error",
     "traceback": [
      "\u001b[0;31m---------------------------------------------------------------------------\u001b[0m",
      "\u001b[0;31mTypeError\u001b[0m                                 Traceback (most recent call last)",
      "Cell \u001b[0;32mIn[3], line 81\u001b[0m\n\u001b[1;32m     79\u001b[0m     \u001b[38;5;66;03m# Evaluation\u001b[39;00m\n\u001b[1;32m     80\u001b[0m     y_preds \u001b[38;5;241m=\u001b[39m [variational_classifier(x, weights) \u001b[38;5;28;01mfor\u001b[39;00m x \u001b[38;5;129;01min\u001b[39;00m X_test]\n\u001b[0;32m---> 81\u001b[0m     acc \u001b[38;5;241m=\u001b[39m \u001b[43maccuracy\u001b[49m\u001b[43m(\u001b[49m\u001b[43my_test\u001b[49m\u001b[43m,\u001b[49m\u001b[43m \u001b[49m\u001b[43my_preds\u001b[49m\u001b[43m)\u001b[49m\n\u001b[1;32m     82\u001b[0m     \u001b[38;5;28mprint\u001b[39m(\u001b[38;5;124mf\u001b[39m\u001b[38;5;124m\"\u001b[39m\u001b[38;5;124mEpoch \u001b[39m\u001b[38;5;132;01m{\u001b[39;00mepoch\u001b[38;5;241m+\u001b[39m\u001b[38;5;241m1\u001b[39m\u001b[38;5;132;01m}\u001b[39;00m\u001b[38;5;124m/\u001b[39m\u001b[38;5;132;01m{\u001b[39;00mepochs\u001b[38;5;132;01m}\u001b[39;00m\u001b[38;5;124m - Accuracy: \u001b[39m\u001b[38;5;132;01m{\u001b[39;00macc\u001b[38;5;132;01m:\u001b[39;00m\u001b[38;5;124m.4f\u001b[39m\u001b[38;5;132;01m}\u001b[39;00m\u001b[38;5;124m\"\u001b[39m)\n\u001b[1;32m     84\u001b[0m \u001b[38;5;66;03m# -------------------- Final Evaluation --------------------\u001b[39;00m\n",
      "Cell \u001b[0;32mIn[3], line 56\u001b[0m, in \u001b[0;36maccuracy\u001b[0;34m(y_true, y_pred)\u001b[0m\n\u001b[1;32m     55\u001b[0m \u001b[38;5;28;01mdef\u001b[39;00m\u001b[38;5;250m \u001b[39m\u001b[38;5;21maccuracy\u001b[39m(y_true, y_pred):\n\u001b[0;32m---> 56\u001b[0m     predictions \u001b[38;5;241m=\u001b[39m np\u001b[38;5;241m.\u001b[39mwhere(\u001b[43my_pred\u001b[49m\u001b[43m \u001b[49m\u001b[38;5;241;43m>\u001b[39;49m\u001b[38;5;241;43m=\u001b[39;49m\u001b[43m \u001b[49m\u001b[38;5;241;43m0.5\u001b[39;49m, \u001b[38;5;241m1\u001b[39m, \u001b[38;5;241m0\u001b[39m)\n\u001b[1;32m     57\u001b[0m     \u001b[38;5;28;01mreturn\u001b[39;00m np\u001b[38;5;241m.\u001b[39mmean(predictions \u001b[38;5;241m==\u001b[39m y_true)\n",
      "\u001b[0;31mTypeError\u001b[0m: '>=' not supported between instances of 'list' and 'float'"
     ]
    }
   ],
   "source": [
    "import pandas as pd\n",
    "from sklearn.preprocessing import StandardScaler\n",
    "from sklearn.model_selection import train_test_split\n",
    "from sklearn.metrics import accuracy_score\n",
    "import pennylane as qml\n",
    "from pennylane import numpy as np\n",
    "\n",
    "# -------------------- Load & Preprocess Dataset --------------------\n",
    "\n",
    "df = pd.read_csv(\"/Users/neerajprao/Downloads/ML-vs-DL-main/datasets/predict-bank-churn.csv\")  # Replace with your actual file path\n",
    "\n",
    "# One-hot encoding\n",
    "df = pd.get_dummies(df, columns=[\"Geography\", \"Gender\"])\n",
    "\n",
    "# Drop unnecessary columns\n",
    "df.drop([\"id\", \"CustomerId\", \"Surname\"], axis=1, inplace=True)\n",
    "\n",
    "# Feature list\n",
    "features = ['CreditScore', 'Geography_France', 'Geography_Germany', 'Geography_Spain',\n",
    "            'Gender_Female', 'Gender_Male', 'Age', 'Tenure', 'Balance', 'NumOfProducts',\n",
    "            'HasCrCard', 'IsActiveMember', 'EstimatedSalary']\n",
    "X = df[features]\n",
    "y = df[\"Exited\"].values\n",
    "\n",
    "# Standardize features\n",
    "scaler = StandardScaler()\n",
    "X_scaled = scaler.fit_transform(X)\n",
    "\n",
    "# Train/test split\n",
    "X_train, X_test, y_train, y_test = train_test_split(X_scaled, y, test_size=0.2, random_state=42)\n",
    "\n",
    "# Convert to PennyLane numpy arrays\n",
    "X_train = np.array(X_train, requires_grad=False)\n",
    "X_test = np.array(X_test, requires_grad=False)\n",
    "y_train = np.array(y_train, requires_grad=False)\n",
    "y_test = np.array(y_test, requires_grad=False)\n",
    "\n",
    "# -------------------- Quantum Model Definition --------------------\n",
    "\n",
    "n_qubits = 13\n",
    "dev = qml.device(\"default.qubit\", wires=n_qubits)\n",
    "\n",
    "@qml.qnode(dev)\n",
    "def circuit(inputs, weights):\n",
    "    qml.templates.AngleEmbedding(inputs, wires=range(n_qubits))\n",
    "    qml.templates.BasicEntanglerLayers(weights, wires=range(n_qubits))\n",
    "    return qml.expval(qml.PauliZ(0))  # Output from qubit 0\n",
    "\n",
    "def variational_classifier(inputs, weights):\n",
    "    return circuit(inputs, weights)\n",
    "\n",
    "def square_loss(y_true, y_pred):\n",
    "    return np.mean((y_true - y_pred) ** 2)\n",
    "\n",
    "def accuracy(y_true, y_pred):\n",
    "    predictions = np.where(y_pred >= 0.5, 1, 0)\n",
    "    return np.mean(predictions == y_true)\n",
    "\n",
    "# -------------------- Training --------------------\n",
    "\n",
    "from pennylane.optimize import AdamOptimizer\n",
    "\n",
    "weights = np.random.randn(2, n_qubits, requires_grad=True)\n",
    "opt = AdamOptimizer(stepsize=0.05)\n",
    "batch_size = 16\n",
    "epochs = 20\n",
    "\n",
    "for epoch in range(epochs):\n",
    "    for i in range(0, len(X_train), batch_size):\n",
    "        X_batch = X_train[i:i+batch_size]\n",
    "        y_batch = y_train[i:i+batch_size]\n",
    "\n",
    "        def cost(weights):\n",
    "            preds = [variational_classifier(x, weights) for x in X_batch]\n",
    "            return square_loss(y_batch, preds)\n",
    "\n",
    "        weights = opt.step(cost, weights)\n",
    "\n",
    "    # Evaluation\n",
    "    y_preds = [variational_classifier(x, weights) for x in X_test]\n",
    "    acc = accuracy(y_test, y_preds)\n",
    "    print(f\"Epoch {epoch+1}/{epochs} - Accuracy: {acc:.4f}\")\n",
    "\n",
    "# -------------------- Final Evaluation --------------------\n",
    "\n",
    "final_preds = [1 if p >= 0.5 else 0 for p in y_preds]\n",
    "print(\"\\nFinal Accuracy:\", accuracy_score(y_test, final_preds))\n"
   ]
  },
  {
   "cell_type": "code",
   "execution_count": 5,
   "id": "d4a89ff3",
   "metadata": {},
   "outputs": [
    {
     "name": "stdout",
     "output_type": "stream",
     "text": [
      "\n",
      "Final Accuracy: 0.7892871209137455\n",
      "Confusion Matrix:\n",
      "[[    0     0     0]\n",
      " [    0 26052     0]\n",
      " [    0  6955     0]]\n",
      "\n",
      "Classification Report:\n",
      "              precision    recall  f1-score   support\n",
      "\n",
      "           0       0.79      1.00      0.88     26052\n",
      "           0       0.79      1.00      0.88     26052\n",
      "           1       0.00      0.00      0.00      6955\n",
      "\n",
      "    accuracy                           0.83     59059\n",
      "   macro avg       0.53      0.67      0.59     59059\n",
      "weighted avg       0.70      0.88      0.78     59059\n",
      "\n"
     ]
    },
    {
     "name": "stderr",
     "output_type": "stream",
     "text": [
      "/opt/anaconda3/envs/yolov8-env/lib/python3.10/site-packages/sklearn/metrics/_classification.py:1565: UndefinedMetricWarning: Precision is ill-defined and being set to 0.0 in labels with no predicted samples. Use `zero_division` parameter to control this behavior.\n",
      "  _warn_prf(average, modifier, f\"{metric.capitalize()} is\", len(result))\n",
      "/opt/anaconda3/envs/yolov8-env/lib/python3.10/site-packages/sklearn/metrics/_classification.py:1565: UndefinedMetricWarning: Precision is ill-defined and being set to 0.0 in labels with no predicted samples. Use `zero_division` parameter to control this behavior.\n",
      "  _warn_prf(average, modifier, f\"{metric.capitalize()} is\", len(result))\n",
      "/opt/anaconda3/envs/yolov8-env/lib/python3.10/site-packages/sklearn/metrics/_classification.py:1565: UndefinedMetricWarning: Precision is ill-defined and being set to 0.0 in labels with no predicted samples. Use `zero_division` parameter to control this behavior.\n",
      "  _warn_prf(average, modifier, f\"{metric.capitalize()} is\", len(result))\n"
     ]
    }
   ],
   "source": [
    "# Ensure y_preds is a list of scalars (probabilities)\n",
    "y_preds = [variational_classifier(x, weights) for x in X_test]\n",
    "y_preds = [float(pred) for pred in y_preds]  # Convert each prediction to a scalar\n",
    "\n",
    "# Calculate final accuracy\n",
    "final_preds = [1 if p >= 0.5 else 0 for p in y_preds]\n",
    "print(\"\\nFinal Accuracy:\", accuracy_score(y_test, final_preds))\n",
    "\n",
    "# Optionally, print confusion matrix and classification report\n",
    "from sklearn.metrics import confusion_matrix, classification_report\n",
    "\n",
    "print(\"Confusion Matrix:\")\n",
    "print(confusion_matrix(y_test, final_preds))\n",
    "\n",
    "print(\"\\nClassification Report:\")\n",
    "print(classification_report(y_test, final_preds))\n"
   ]
  },
  {
   "cell_type": "code",
   "execution_count": 6,
   "id": "33b442bc",
   "metadata": {},
   "outputs": [],
   "source": [
    "# Save the trained weights to a file\n",
    "np.save(\"quantum_model_weights.npy\", weights)\n",
    "\n",
    "# To load them later (if needed):\n",
    "# weights = np.load(\"quantum_model_weights.npy\", allow_pickle=True)\n"
   ]
  },
  {
   "cell_type": "code",
   "execution_count": null,
   "id": "5064e93c",
   "metadata": {},
   "outputs": [],
   "source": []
  },
  {
   "cell_type": "markdown",
   "id": "66e43a73",
   "metadata": {},
   "source": [
    "Accuracy = 0.78"
   ]
  },
  {
   "cell_type": "markdown",
   "id": "58a7766d",
   "metadata": {},
   "source": []
  }
 ],
 "metadata": {
  "kernelspec": {
   "display_name": "yolov8-env",
   "language": "python",
   "name": "python3"
  },
  "language_info": {
   "codemirror_mode": {
    "name": "ipython",
    "version": 3
   },
   "file_extension": ".py",
   "mimetype": "text/x-python",
   "name": "python",
   "nbconvert_exporter": "python",
   "pygments_lexer": "ipython3",
   "version": "3.10.16"
  }
 },
 "nbformat": 4,
 "nbformat_minor": 5
}
